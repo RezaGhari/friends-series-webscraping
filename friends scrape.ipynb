{
 "cells": [
  {
   "cell_type": "code",
   "execution_count": 75,
   "metadata": {},
   "outputs": [],
   "source": [
    "from requests import get\n",
    "from bs4 import BeautifulSoup\n",
    "from selenium import webdriver\n",
    "import pandas as pd\n",
    "import numpy as np"
   ]
  },
  {
   "cell_type": "code",
   "execution_count": 3,
   "metadata": {},
   "outputs": [],
   "source": [
    "url = 'https://www.imdb.com/list/ls021051704/?page=1'\n",
    "eps = get(url)\n",
    "soup = BeautifulSoup(eps.text, 'html.parser')"
   ]
  },
  {
   "cell_type": "code",
   "execution_count": 28,
   "metadata": {},
   "outputs": [
    {
     "data": {
      "text/plain": [
       "22"
      ]
     },
     "execution_count": 28,
     "metadata": {},
     "output_type": "execute_result"
    }
   ],
   "source": [
    "boxes = soup.find_all('div', class_=\"lister-item mode-detail\")\n",
    "time = boxes[1].find('span',class_=\"runtime\").get_text().replace(' min', '')\n",
    "time = int(time)\n",
    "time"
   ]
  },
  {
   "cell_type": "code",
   "execution_count": 29,
   "metadata": {},
   "outputs": [
    {
     "data": {
      "text/plain": [
       "'Comedy'"
      ]
     },
     "execution_count": 29,
     "metadata": {},
     "output_type": "execute_result"
    }
   ],
   "source": [
    "genre1 = boxes[1].find('span',class_=\"genre\").get_text().strip().split(', ')[0]\n",
    "genre2 = boxes[1].find('span',class_=\"genre\").get_text().strip().split(', ')[1]\n",
    "genre1"
   ]
  },
  {
   "cell_type": "code",
   "execution_count": 30,
   "metadata": {},
   "outputs": [
    {
     "data": {
      "text/plain": [
       "8.3"
      ]
     },
     "execution_count": 30,
     "metadata": {},
     "output_type": "execute_result"
    }
   ],
   "source": [
    "star = float(boxes[1].find('span', class_=\"ipl-rating-star__rating\").get_text())\n",
    "star"
   ]
  },
  {
   "cell_type": "code",
   "execution_count": 32,
   "metadata": {},
   "outputs": [
    {
     "data": {
      "text/plain": [
       "'Monica and the gang introduce Rachel to the \"real world\" after she leaves her fiancé at the altar.'"
      ]
     },
     "execution_count": 32,
     "metadata": {},
     "output_type": "execute_result"
    }
   ],
   "source": [
    "summary = boxes[1].find('p',class_=\"\").get_text().strip()\n",
    "summary"
   ]
  },
  {
   "cell_type": "code",
   "execution_count": 39,
   "metadata": {},
   "outputs": [
    {
     "data": {
      "text/plain": [
       "'James Burrows'"
      ]
     },
     "execution_count": 39,
     "metadata": {},
     "output_type": "execute_result"
    }
   ],
   "source": [
    "director = boxes[1].find_all('p',class_=\"text-muted text-small\")[1].a.text\n"
   ]
  },
  {
   "cell_type": "code",
   "execution_count": 48,
   "metadata": {},
   "outputs": [
    {
     "data": {
      "text/plain": [
       "'The One Where Monica Gets a Roommate'"
      ]
     },
     "execution_count": 48,
     "metadata": {},
     "output_type": "execute_result"
    }
   ],
   "source": [
    "title = boxes[1].find('h3').find_all('a')[1].text"
   ]
  },
  {
   "cell_type": "code",
   "execution_count": 53,
   "metadata": {},
   "outputs": [
    {
     "data": {
      "text/plain": [
       "6498"
      ]
     },
     "execution_count": 53,
     "metadata": {},
     "output_type": "execute_result"
    }
   ],
   "source": [
    "votes = boxes[1].find('span',attrs={'name':\"nv\"}).get_text().replace(',', '')\n",
    "votes = int(votes)\n",
    "votes"
   ]
  },
  {
   "cell_type": "code",
   "execution_count": 62,
   "metadata": {},
   "outputs": [
    {
     "data": {
      "text/plain": [
       "1994"
      ]
     },
     "execution_count": 62,
     "metadata": {},
     "output_type": "execute_result"
    }
   ],
   "source": [
    "year = boxes[1].find_all('span', class_=\"lister-item-year text-muted unbold\")[1].get_text()[1:-1]\n",
    "year = int(year)\n",
    "year"
   ]
  },
  {
   "cell_type": "code",
   "execution_count": 70,
   "metadata": {},
   "outputs": [
    {
     "data": {
      "text/plain": [
       "9.2"
      ]
     },
     "execution_count": 70,
     "metadata": {},
     "output_type": "execute_result"
    }
   ],
   "source": [
    "rate = boxes[1].find('div',class_=\"list-description\").get_text().replace('Rating: ', '')\n",
    "rate = float(rate)\n",
    "rate"
   ]
  },
  {
   "cell_type": "code",
   "execution_count": 95,
   "metadata": {},
   "outputs": [],
   "source": [
    "years = []\n",
    "votes = []\n",
    "titles = []\n",
    "dirs = []\n",
    "sums = []\n",
    "stars = []\n",
    "genres1 = []\n",
    "genres2 = []\n",
    "times = []\n",
    "rates = []"
   ]
  },
  {
   "cell_type": "code",
   "execution_count": 96,
   "metadata": {},
   "outputs": [
    {
     "name": "stdout",
     "output_type": "stream",
     "text": [
      "Starting page 1\n",
      "Page 1 ended.\n",
      "Starting page 2\n",
      "Page 2 ended.\n",
      "Starting page 3\n",
      "Page 3 ended.\n"
     ]
    }
   ],
   "source": [
    "for i in range(1,4):\n",
    "    url = 'https://www.imdb.com/list/ls021051704/?page='+str(i)\n",
    "    eps = get(url)\n",
    "    soup = BeautifulSoup(eps.text, 'html.parser')\n",
    "    print(f'Starting page {i}')\n",
    "    boxes = soup.find_all('div', class_=\"lister-item mode-detail\")\n",
    "    for j in range(len(boxes)):\n",
    "        time = boxes[j].find('span',class_=\"runtime\").get_text().replace(' min', '')\n",
    "        time = int(time)\n",
    "        times.append(time)\n",
    "        \n",
    "        genre1 = boxes[j].find('span',class_=\"genre\").get_text().strip().split(', ')[0]\n",
    "        genre2 = boxes[j].find('span',class_=\"genre\").get_text().strip().split(', ')[1]\n",
    "        genres1.append(genre1)\n",
    "        genres2.append(genre2)\n",
    "\n",
    "        star = float(boxes[j].find('span', class_=\"ipl-rating-star__rating\").get_text())\n",
    "        stars.append(star)\n",
    "        \n",
    "        summary = boxes[j].find('p',class_=\"\").get_text().strip()\n",
    "        sums.append(summary)\n",
    "        \n",
    "        director = boxes[j].find_all('p',class_=\"text-muted text-small\")[1].a.text\n",
    "        dirs.append(director)\n",
    "        \n",
    "        try:\n",
    "            title = boxes[j].find('h3').find_all('a')[1].text\n",
    "        except IndexError:\n",
    "            title = boxes[j].find('h3').find_all('a')[0].text\n",
    "        titles.append(title)\n",
    "        \n",
    "        vote = boxes[j].find('span',attrs={'name':\"nv\"}).get_text().replace(',', '')\n",
    "        vote = int(vote)\n",
    "        votes.append(vote)\n",
    "        \n",
    "        try:\n",
    "            year = boxes[j].find_all('span',\n",
    "                                 class_=\"lister-item-year text-muted unbold\")[1].get_text()[1:-1]\n",
    "            year = int(year)\n",
    "        except IndexError:\n",
    "            year = np.nan\n",
    "        years.append(year)\n",
    "        \n",
    "        rate = boxes[j].find('div',class_=\"list-description\").get_text().replace('Rating: ', '')\n",
    "        try:\n",
    "            rate = float(rate)\n",
    "        except ValueError:\n",
    "            try:\n",
    "                rate = float(rate[:2])\n",
    "            except ValueError:\n",
    "                rate = np.nan\n",
    "        rates.append(rate)\n",
    "    print(f'Page {i} ended.')"
   ]
  },
  {
   "cell_type": "code",
   "execution_count": 109,
   "metadata": {},
   "outputs": [
    {
     "data": {
      "text/html": [
       "<div>\n",
       "<style scoped>\n",
       "    .dataframe tbody tr th:only-of-type {\n",
       "        vertical-align: middle;\n",
       "    }\n",
       "\n",
       "    .dataframe tbody tr th {\n",
       "        vertical-align: top;\n",
       "    }\n",
       "\n",
       "    .dataframe thead th {\n",
       "        text-align: right;\n",
       "    }\n",
       "</style>\n",
       "<table border=\"1\" class=\"dataframe\">\n",
       "  <thead>\n",
       "    <tr style=\"text-align: right;\">\n",
       "      <th></th>\n",
       "      <th>Year</th>\n",
       "      <th>Episode_Title</th>\n",
       "      <th>Duration</th>\n",
       "      <th>Summary</th>\n",
       "      <th>Genre_1</th>\n",
       "      <th>Genre_2</th>\n",
       "      <th>Director</th>\n",
       "      <th>Stars</th>\n",
       "      <th>Votes</th>\n",
       "      <th>Rating</th>\n",
       "    </tr>\n",
       "  </thead>\n",
       "  <tbody>\n",
       "    <tr>\n",
       "      <th>0</th>\n",
       "      <td>NaN</td>\n",
       "      <td>Friends</td>\n",
       "      <td>22</td>\n",
       "      <td>Follows the personal and professional lives of...</td>\n",
       "      <td>Comedy</td>\n",
       "      <td>Romance</td>\n",
       "      <td>Jennifer Aniston</td>\n",
       "      <td>8.9</td>\n",
       "      <td>754303</td>\n",
       "      <td>NaN</td>\n",
       "    </tr>\n",
       "    <tr>\n",
       "      <th>1</th>\n",
       "      <td>1994.0</td>\n",
       "      <td>The One Where Monica Gets a Roommate</td>\n",
       "      <td>22</td>\n",
       "      <td>Monica and the gang introduce Rachel to the \"r...</td>\n",
       "      <td>Comedy</td>\n",
       "      <td>Romance</td>\n",
       "      <td>James Burrows</td>\n",
       "      <td>8.3</td>\n",
       "      <td>6500</td>\n",
       "      <td>9.2</td>\n",
       "    </tr>\n",
       "    <tr>\n",
       "      <th>2</th>\n",
       "      <td>1994.0</td>\n",
       "      <td>The One with the Sonogram at the End</td>\n",
       "      <td>22</td>\n",
       "      <td>Ross finds out his ex-wife is pregnant. Rachel...</td>\n",
       "      <td>Comedy</td>\n",
       "      <td>Romance</td>\n",
       "      <td>James Burrows</td>\n",
       "      <td>8.1</td>\n",
       "      <td>4888</td>\n",
       "      <td>8.4</td>\n",
       "    </tr>\n",
       "  </tbody>\n",
       "</table>\n",
       "</div>"
      ],
      "text/plain": [
       "     Year                         Episode_Title  Duration  \\\n",
       "0     NaN                               Friends        22   \n",
       "1  1994.0  The One Where Monica Gets a Roommate        22   \n",
       "2  1994.0  The One with the Sonogram at the End        22   \n",
       "\n",
       "                                             Summary Genre_1  Genre_2  \\\n",
       "0  Follows the personal and professional lives of...  Comedy  Romance   \n",
       "1  Monica and the gang introduce Rachel to the \"r...  Comedy  Romance   \n",
       "2  Ross finds out his ex-wife is pregnant. Rachel...  Comedy  Romance   \n",
       "\n",
       "           Director  Stars   Votes  Rating  \n",
       "0  Jennifer Aniston    8.9  754303     NaN  \n",
       "1     James Burrows    8.3    6500     9.2  \n",
       "2     James Burrows    8.1    4888     8.4  "
      ]
     },
     "execution_count": 109,
     "metadata": {},
     "output_type": "execute_result"
    }
   ],
   "source": [
    "df = pd.DataFrame({\n",
    "    'Year': years,\n",
    "    'Episode_Title': titles,\n",
    "    'Duration': times,\n",
    "    'Summary': sums,\n",
    "    'Genre_1': genre1,\n",
    "    'Genre_2': genre2,\n",
    "    'Director': dirs,\n",
    "    'Stars': stars,\n",
    "    'Votes': votes,\n",
    "    'Rating': rates\n",
    "})\n",
    "df.head(3)"
   ]
  },
  {
   "cell_type": "code",
   "execution_count": 121,
   "metadata": {},
   "outputs": [
    {
     "data": {
      "text/html": [
       "<div>\n",
       "<style scoped>\n",
       "    .dataframe tbody tr th:only-of-type {\n",
       "        vertical-align: middle;\n",
       "    }\n",
       "\n",
       "    .dataframe tbody tr th {\n",
       "        vertical-align: top;\n",
       "    }\n",
       "\n",
       "    .dataframe thead th {\n",
       "        text-align: right;\n",
       "    }\n",
       "</style>\n",
       "<table border=\"1\" class=\"dataframe\">\n",
       "  <thead>\n",
       "    <tr style=\"text-align: right;\">\n",
       "      <th></th>\n",
       "      <th>Year</th>\n",
       "      <th>Episode_Title</th>\n",
       "      <th>Duration</th>\n",
       "      <th>Summary</th>\n",
       "      <th>Genre_1</th>\n",
       "      <th>Genre_2</th>\n",
       "      <th>Director</th>\n",
       "      <th>Stars</th>\n",
       "      <th>Votes</th>\n",
       "      <th>Rating</th>\n",
       "    </tr>\n",
       "  </thead>\n",
       "  <tbody>\n",
       "    <tr>\n",
       "      <th>0</th>\n",
       "      <td>1994.0</td>\n",
       "      <td>The One with the Sonogram at the End</td>\n",
       "      <td>22</td>\n",
       "      <td>Ross finds out his ex-wife is pregnant. Rachel...</td>\n",
       "      <td>Comedy</td>\n",
       "      <td>Romance</td>\n",
       "      <td>James Burrows</td>\n",
       "      <td>8.1</td>\n",
       "      <td>4888</td>\n",
       "      <td>8.4</td>\n",
       "    </tr>\n",
       "    <tr>\n",
       "      <th>1</th>\n",
       "      <td>1994.0</td>\n",
       "      <td>The One with the Thumb</td>\n",
       "      <td>22</td>\n",
       "      <td>Monica becomes irritated when everyone likes h...</td>\n",
       "      <td>Comedy</td>\n",
       "      <td>Romance</td>\n",
       "      <td>James Burrows</td>\n",
       "      <td>8.2</td>\n",
       "      <td>4605</td>\n",
       "      <td>8.8</td>\n",
       "    </tr>\n",
       "    <tr>\n",
       "      <th>2</th>\n",
       "      <td>1994.0</td>\n",
       "      <td>The One with George Stephanopoulos</td>\n",
       "      <td>22</td>\n",
       "      <td>Joey and Chandler take Ross to a hockey game t...</td>\n",
       "      <td>Comedy</td>\n",
       "      <td>Romance</td>\n",
       "      <td>James Burrows</td>\n",
       "      <td>8.1</td>\n",
       "      <td>4468</td>\n",
       "      <td>8.7</td>\n",
       "    </tr>\n",
       "    <tr>\n",
       "      <th>3</th>\n",
       "      <td>1994.0</td>\n",
       "      <td>The One with the East German Laundry Detergent</td>\n",
       "      <td>22</td>\n",
       "      <td>Eager to spend time with Rachel, Ross pretends...</td>\n",
       "      <td>Comedy</td>\n",
       "      <td>Romance</td>\n",
       "      <td>Pamela Fryman</td>\n",
       "      <td>8.5</td>\n",
       "      <td>4438</td>\n",
       "      <td>8.8</td>\n",
       "    </tr>\n",
       "    <tr>\n",
       "      <th>4</th>\n",
       "      <td>1994.0</td>\n",
       "      <td>The One with the Butt</td>\n",
       "      <td>22</td>\n",
       "      <td>Monica's obsessiveness is put to the test afte...</td>\n",
       "      <td>Comedy</td>\n",
       "      <td>Romance</td>\n",
       "      <td>Arlene Sanford</td>\n",
       "      <td>8.1</td>\n",
       "      <td>4274</td>\n",
       "      <td>8.3</td>\n",
       "    </tr>\n",
       "  </tbody>\n",
       "</table>\n",
       "</div>"
      ],
      "text/plain": [
       "     Year                                   Episode_Title  Duration  \\\n",
       "0  1994.0            The One with the Sonogram at the End        22   \n",
       "1  1994.0                          The One with the Thumb        22   \n",
       "2  1994.0              The One with George Stephanopoulos        22   \n",
       "3  1994.0  The One with the East German Laundry Detergent        22   \n",
       "4  1994.0                           The One with the Butt        22   \n",
       "\n",
       "                                             Summary Genre_1  Genre_2  \\\n",
       "0  Ross finds out his ex-wife is pregnant. Rachel...  Comedy  Romance   \n",
       "1  Monica becomes irritated when everyone likes h...  Comedy  Romance   \n",
       "2  Joey and Chandler take Ross to a hockey game t...  Comedy  Romance   \n",
       "3  Eager to spend time with Rachel, Ross pretends...  Comedy  Romance   \n",
       "4  Monica's obsessiveness is put to the test afte...  Comedy  Romance   \n",
       "\n",
       "         Director  Stars  Votes  Rating  \n",
       "0   James Burrows    8.1   4888     8.4  \n",
       "1   James Burrows    8.2   4605     8.8  \n",
       "2   James Burrows    8.1   4468     8.7  \n",
       "3   Pamela Fryman    8.5   4438     8.8  \n",
       "4  Arlene Sanford    8.1   4274     8.3  "
      ]
     },
     "execution_count": 121,
     "metadata": {},
     "output_type": "execute_result"
    }
   ],
   "source": [
    "df = df.drop('level_0',axis=1)\n",
    "df = df.drop('index',axis=1)\n",
    "df.head()"
   ]
  },
  {
   "cell_type": "code",
   "execution_count": 123,
   "metadata": {},
   "outputs": [
    {
     "name": "stdout",
     "output_type": "stream",
     "text": [
      "<class 'pandas.core.frame.DataFrame'>\n",
      "RangeIndex: 235 entries, 0 to 234\n",
      "Data columns (total 10 columns):\n",
      " #   Column         Non-Null Count  Dtype  \n",
      "---  ------         --------------  -----  \n",
      " 0   Year           235 non-null    float64\n",
      " 1   Episode_Title  235 non-null    object \n",
      " 2   Duration       235 non-null    int64  \n",
      " 3   Summary        235 non-null    object \n",
      " 4   Genre_1        235 non-null    object \n",
      " 5   Genre_2        235 non-null    object \n",
      " 6   Director       235 non-null    object \n",
      " 7   Stars          235 non-null    float64\n",
      " 8   Votes          235 non-null    int64  \n",
      " 9   Rating         235 non-null    float64\n",
      "dtypes: float64(3), int64(2), object(5)\n",
      "memory usage: 13.8+ KB\n"
     ]
    }
   ],
   "source": [
    "df.info()"
   ]
  },
  {
   "cell_type": "code",
   "execution_count": 124,
   "metadata": {},
   "outputs": [
    {
     "data": {
      "text/html": [
       "<div>\n",
       "<style scoped>\n",
       "    .dataframe tbody tr th:only-of-type {\n",
       "        vertical-align: middle;\n",
       "    }\n",
       "\n",
       "    .dataframe tbody tr th {\n",
       "        vertical-align: top;\n",
       "    }\n",
       "\n",
       "    .dataframe thead th {\n",
       "        text-align: right;\n",
       "    }\n",
       "</style>\n",
       "<table border=\"1\" class=\"dataframe\">\n",
       "  <thead>\n",
       "    <tr style=\"text-align: right;\">\n",
       "      <th></th>\n",
       "      <th>Year</th>\n",
       "      <th>Episode_Title</th>\n",
       "      <th>Duration</th>\n",
       "      <th>Summary</th>\n",
       "      <th>Genre_1</th>\n",
       "      <th>Genre_2</th>\n",
       "      <th>Director</th>\n",
       "      <th>Stars</th>\n",
       "      <th>Votes</th>\n",
       "      <th>Rating</th>\n",
       "    </tr>\n",
       "  </thead>\n",
       "  <tbody>\n",
       "    <tr>\n",
       "      <th>0</th>\n",
       "      <td>1994</td>\n",
       "      <td>The One with the Sonogram at the End</td>\n",
       "      <td>22</td>\n",
       "      <td>Ross finds out his ex-wife is pregnant. Rachel...</td>\n",
       "      <td>Comedy</td>\n",
       "      <td>Romance</td>\n",
       "      <td>James Burrows</td>\n",
       "      <td>8.1</td>\n",
       "      <td>4888</td>\n",
       "      <td>8.4</td>\n",
       "    </tr>\n",
       "    <tr>\n",
       "      <th>1</th>\n",
       "      <td>1994</td>\n",
       "      <td>The One with the Thumb</td>\n",
       "      <td>22</td>\n",
       "      <td>Monica becomes irritated when everyone likes h...</td>\n",
       "      <td>Comedy</td>\n",
       "      <td>Romance</td>\n",
       "      <td>James Burrows</td>\n",
       "      <td>8.2</td>\n",
       "      <td>4605</td>\n",
       "      <td>8.8</td>\n",
       "    </tr>\n",
       "    <tr>\n",
       "      <th>2</th>\n",
       "      <td>1994</td>\n",
       "      <td>The One with George Stephanopoulos</td>\n",
       "      <td>22</td>\n",
       "      <td>Joey and Chandler take Ross to a hockey game t...</td>\n",
       "      <td>Comedy</td>\n",
       "      <td>Romance</td>\n",
       "      <td>James Burrows</td>\n",
       "      <td>8.1</td>\n",
       "      <td>4468</td>\n",
       "      <td>8.7</td>\n",
       "    </tr>\n",
       "    <tr>\n",
       "      <th>3</th>\n",
       "      <td>1994</td>\n",
       "      <td>The One with the East German Laundry Detergent</td>\n",
       "      <td>22</td>\n",
       "      <td>Eager to spend time with Rachel, Ross pretends...</td>\n",
       "      <td>Comedy</td>\n",
       "      <td>Romance</td>\n",
       "      <td>Pamela Fryman</td>\n",
       "      <td>8.5</td>\n",
       "      <td>4438</td>\n",
       "      <td>8.8</td>\n",
       "    </tr>\n",
       "    <tr>\n",
       "      <th>4</th>\n",
       "      <td>1994</td>\n",
       "      <td>The One with the Butt</td>\n",
       "      <td>22</td>\n",
       "      <td>Monica's obsessiveness is put to the test afte...</td>\n",
       "      <td>Comedy</td>\n",
       "      <td>Romance</td>\n",
       "      <td>Arlene Sanford</td>\n",
       "      <td>8.1</td>\n",
       "      <td>4274</td>\n",
       "      <td>8.3</td>\n",
       "    </tr>\n",
       "  </tbody>\n",
       "</table>\n",
       "</div>"
      ],
      "text/plain": [
       "   Year                                   Episode_Title  Duration  \\\n",
       "0  1994            The One with the Sonogram at the End        22   \n",
       "1  1994                          The One with the Thumb        22   \n",
       "2  1994              The One with George Stephanopoulos        22   \n",
       "3  1994  The One with the East German Laundry Detergent        22   \n",
       "4  1994                           The One with the Butt        22   \n",
       "\n",
       "                                             Summary Genre_1  Genre_2  \\\n",
       "0  Ross finds out his ex-wife is pregnant. Rachel...  Comedy  Romance   \n",
       "1  Monica becomes irritated when everyone likes h...  Comedy  Romance   \n",
       "2  Joey and Chandler take Ross to a hockey game t...  Comedy  Romance   \n",
       "3  Eager to spend time with Rachel, Ross pretends...  Comedy  Romance   \n",
       "4  Monica's obsessiveness is put to the test afte...  Comedy  Romance   \n",
       "\n",
       "         Director  Stars  Votes  Rating  \n",
       "0   James Burrows    8.1   4888     8.4  \n",
       "1   James Burrows    8.2   4605     8.8  \n",
       "2   James Burrows    8.1   4468     8.7  \n",
       "3   Pamela Fryman    8.5   4438     8.8  \n",
       "4  Arlene Sanford    8.1   4274     8.3  "
      ]
     },
     "execution_count": 124,
     "metadata": {},
     "output_type": "execute_result"
    }
   ],
   "source": [
    "df.Year = df.Year.astype('int')\n",
    "df.head()"
   ]
  },
  {
   "cell_type": "code",
   "execution_count": 135,
   "metadata": {},
   "outputs": [
    {
     "data": {
      "text/html": [
       "<div>\n",
       "<style scoped>\n",
       "    .dataframe tbody tr th:only-of-type {\n",
       "        vertical-align: middle;\n",
       "    }\n",
       "\n",
       "    .dataframe tbody tr th {\n",
       "        vertical-align: top;\n",
       "    }\n",
       "\n",
       "    .dataframe thead th {\n",
       "        text-align: right;\n",
       "    }\n",
       "</style>\n",
       "<table border=\"1\" class=\"dataframe\">\n",
       "  <thead>\n",
       "    <tr style=\"text-align: right;\">\n",
       "      <th></th>\n",
       "      <th>Year</th>\n",
       "      <th>Episode_Title</th>\n",
       "      <th>Duration</th>\n",
       "      <th>Summary</th>\n",
       "      <th>Director</th>\n",
       "      <th>Stars</th>\n",
       "      <th>Votes</th>\n",
       "      <th>Rating</th>\n",
       "    </tr>\n",
       "  </thead>\n",
       "  <tbody>\n",
       "    <tr>\n",
       "      <th>0</th>\n",
       "      <td>1994</td>\n",
       "      <td>The One with the Sonogram at the End</td>\n",
       "      <td>22</td>\n",
       "      <td>Ross finds out his ex-wife is pregnant. Rachel...</td>\n",
       "      <td>James Burrows</td>\n",
       "      <td>8.1</td>\n",
       "      <td>4888</td>\n",
       "      <td>8.4</td>\n",
       "    </tr>\n",
       "    <tr>\n",
       "      <th>1</th>\n",
       "      <td>1994</td>\n",
       "      <td>The One with the Thumb</td>\n",
       "      <td>22</td>\n",
       "      <td>Monica becomes irritated when everyone likes h...</td>\n",
       "      <td>James Burrows</td>\n",
       "      <td>8.2</td>\n",
       "      <td>4605</td>\n",
       "      <td>8.8</td>\n",
       "    </tr>\n",
       "    <tr>\n",
       "      <th>2</th>\n",
       "      <td>1994</td>\n",
       "      <td>The One with George Stephanopoulos</td>\n",
       "      <td>22</td>\n",
       "      <td>Joey and Chandler take Ross to a hockey game t...</td>\n",
       "      <td>James Burrows</td>\n",
       "      <td>8.1</td>\n",
       "      <td>4468</td>\n",
       "      <td>8.7</td>\n",
       "    </tr>\n",
       "    <tr>\n",
       "      <th>3</th>\n",
       "      <td>1994</td>\n",
       "      <td>The One with the East German Laundry Detergent</td>\n",
       "      <td>22</td>\n",
       "      <td>Eager to spend time with Rachel, Ross pretends...</td>\n",
       "      <td>Pamela Fryman</td>\n",
       "      <td>8.5</td>\n",
       "      <td>4438</td>\n",
       "      <td>8.8</td>\n",
       "    </tr>\n",
       "    <tr>\n",
       "      <th>4</th>\n",
       "      <td>1994</td>\n",
       "      <td>The One with the Butt</td>\n",
       "      <td>22</td>\n",
       "      <td>Monica's obsessiveness is put to the test afte...</td>\n",
       "      <td>Arlene Sanford</td>\n",
       "      <td>8.1</td>\n",
       "      <td>4274</td>\n",
       "      <td>8.3</td>\n",
       "    </tr>\n",
       "  </tbody>\n",
       "</table>\n",
       "</div>"
      ],
      "text/plain": [
       "   Year                                   Episode_Title  Duration  \\\n",
       "0  1994            The One with the Sonogram at the End        22   \n",
       "1  1994                          The One with the Thumb        22   \n",
       "2  1994              The One with George Stephanopoulos        22   \n",
       "3  1994  The One with the East German Laundry Detergent        22   \n",
       "4  1994                           The One with the Butt        22   \n",
       "\n",
       "                                             Summary        Director  Stars  \\\n",
       "0  Ross finds out his ex-wife is pregnant. Rachel...   James Burrows    8.1   \n",
       "1  Monica becomes irritated when everyone likes h...   James Burrows    8.2   \n",
       "2  Joey and Chandler take Ross to a hockey game t...   James Burrows    8.1   \n",
       "3  Eager to spend time with Rachel, Ross pretends...   Pamela Fryman    8.5   \n",
       "4  Monica's obsessiveness is put to the test afte...  Arlene Sanford    8.1   \n",
       "\n",
       "   Votes  Rating  \n",
       "0   4888     8.4  \n",
       "1   4605     8.8  \n",
       "2   4468     8.7  \n",
       "3   4438     8.8  \n",
       "4   4274     8.3  "
      ]
     },
     "execution_count": 135,
     "metadata": {},
     "output_type": "execute_result"
    }
   ],
   "source": [
    "df.drop(['Genre_1', 'Genre_2'], axis=1, inplace=True)\n",
    "df.head()"
   ]
  },
  {
   "cell_type": "code",
   "execution_count": 136,
   "metadata": {},
   "outputs": [],
   "source": [
    "df.to_csv('friends_episodes_v2.csv')"
   ]
  }
 ],
 "metadata": {
  "kernelspec": {
   "display_name": "Python 3",
   "language": "python",
   "name": "python3"
  },
  "language_info": {
   "codemirror_mode": {
    "name": "ipython",
    "version": 3
   },
   "file_extension": ".py",
   "mimetype": "text/x-python",
   "name": "python",
   "nbconvert_exporter": "python",
   "pygments_lexer": "ipython3",
   "version": "3.9.1"
  }
 },
 "nbformat": 4,
 "nbformat_minor": 4
}
